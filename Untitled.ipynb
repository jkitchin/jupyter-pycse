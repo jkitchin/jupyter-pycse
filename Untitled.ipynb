{
 "cells": [
  {
   "cell_type": "code",
   "execution_count": 1,
   "id": "4a57a981-4b2b-4d9c-9719-a6bba049e9c8",
   "metadata": {},
   "outputs": [
    {
     "data": {
      "text/html": [
       "<widgetbot\n",
       "  server=\"772879461896552478\"\n",
       "  width=\"800\"\n",
       "  height=\"600\"\n",
       "></widgetbot>\n",
       "<script src=\"https://cdn.jsdelivr.net/npm/@widgetbot/html-embed\"></script>"
      ],
      "text/plain": [
       "<IPython.core.display.HTML object>"
      ]
     },
     "metadata": {},
     "output_type": "display_data"
    }
   ],
   "source": [
    "from IPython.display import HTML\n",
    "\n",
    "display(\n",
    "    HTML(\n",
    "        \"\"\"<widgetbot\n",
    "  server=\"772879461896552478\"\n",
    "  width=\"800\"\n",
    "  height=\"600\"\n",
    "></widgetbot>\n",
    "<script src=\"https://cdn.jsdelivr.net/npm/@widgetbot/html-embed\"></script>\"\"\"\n",
    "    )\n",
    ")"
   ]
  },
  {
   "cell_type": "code",
   "execution_count": 1,
   "id": "34ca204f-427d-424a-901f-f149d82a0b19",
   "metadata": {},
   "outputs": [
    {
     "data": {
      "text/plain": [
       "'test'"
      ]
     },
     "metadata": {},
     "output_type": "display_data"
    }
   ],
   "source": [
    "from sidecar import Sidecar\n",
    "\n",
    "sc = Sidecar(title='Sidecar Output')\n",
    "\n",
    "with sc:\n",
    "    display('test')"
   ]
  },
  {
   "cell_type": "code",
   "execution_count": 2,
   "id": "78fcf636-4ae3-4b9c-bc69-7997e593bd7d",
   "metadata": {},
   "outputs": [
    {
     "ename": "NameError",
     "evalue": "name 'HTML' is not defined",
     "output_type": "error",
     "traceback": [
      "\u001b[0;31m---------------------------------------------------------------------------\u001b[0m",
      "\u001b[0;31mNameError\u001b[0m                                 Traceback (most recent call last)",
      "Input \u001b[0;32mIn [2]\u001b[0m, in \u001b[0;36m<cell line: 1>\u001b[0;34m()\u001b[0m\n\u001b[1;32m      1\u001b[0m \u001b[38;5;28;01mwith\u001b[39;00m sc:\n\u001b[0;32m----> 2\u001b[0m     display(\u001b[43mHTML\u001b[49m(\n\u001b[1;32m      3\u001b[0m         \u001b[38;5;124;03m\"\"\"<widgetbot\u001b[39;00m\n\u001b[1;32m      4\u001b[0m \u001b[38;5;124;03m  server=\"772879461896552478\"\u001b[39;00m\n\u001b[1;32m      5\u001b[0m \u001b[38;5;124;03m  width=\"800\"\u001b[39;00m\n\u001b[1;32m      6\u001b[0m \u001b[38;5;124;03m  height=\"600\"\u001b[39;00m\n\u001b[1;32m      7\u001b[0m \u001b[38;5;124;03m></widgetbot>\u001b[39;00m\n\u001b[1;32m      8\u001b[0m \u001b[38;5;124;03m<script src=\"https://cdn.jsdelivr.net/npm/@widgetbot/html-embed\"></script>\"\"\"\u001b[39;00m\n\u001b[1;32m      9\u001b[0m     ))\n",
      "\u001b[0;31mNameError\u001b[0m: name 'HTML' is not defined"
     ]
    }
   ],
   "source": [
    "from IPython.display import HTML\n",
    "\n",
    "with sc:\n",
    "    display(HTML(\n",
    "        \"\"\"<widgetbot\n",
    "  server=\"772879461896552478\"\n",
    "  width=\"800\"\n",
    "  height=\"600\"\n",
    "></widgetbot>\n",
    "<script src=\"https://cdn.jsdelivr.net/npm/@widgetbot/html-embed\"></script>\"\"\"\n",
    "    ))"
   ]
  },
  {
   "cell_type": "code",
   "execution_count": null,
   "id": "81d5fd04-03b3-4f90-ade0-19765ecc4a9c",
   "metadata": {},
   "outputs": [],
   "source": []
  }
 ],
 "metadata": {
  "kernelspec": {
   "display_name": "Python 3 (ipykernel)",
   "language": "python",
   "name": "python3"
  },
  "language_info": {
   "codemirror_mode": {
    "name": "ipython",
    "version": 3
   },
   "file_extension": ".py",
   "mimetype": "text/x-python",
   "name": "python",
   "nbconvert_exporter": "python",
   "pygments_lexer": "ipython3",
   "version": "3.10.5"
  },
  "vscode": {
   "interpreter": {
    "hash": "d4d1e4263499bec80672ea0156c357c1ee493ec2b1c70f0acce89fc37c4a6abe"
   }
  }
 },
 "nbformat": 4,
 "nbformat_minor": 5
}
