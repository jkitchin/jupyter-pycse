{
 "cells": [
  {
   "cell_type": "code",
   "execution_count": null,
   "id": "d54ebb52-96d5-4b83-bf39-ead3773b9b39",
   "metadata": {},
   "outputs": [],
   "source": []
  },
  {
   "cell_type": "code",
   "execution_count": null,
   "id": "d9a7581b-63ff-48c7-b942-b02c5520fe9e",
   "metadata": {},
   "outputs": [],
   "source": [
    "np.arange(210).reshape((2,3,5,7)).swapaxes(1,3)"
   ]
  },
  {
   "cell_type": "code",
   "execution_count": null,
   "id": "b98df6e8-8fd6-4d28-a2ea-3ea8498e8b0d",
   "metadata": {},
   "outputs": [],
   "source": [
    "from __future__ import print_function, division\n",
    "import numpy as np"
   ]
  },
  {
   "cell_type": "code",
   "execution_count": null,
   "id": "846d7d6a-3fdd-4df6-b5c2-39c211f80518",
   "metadata": {},
   "outputs": [],
   "source": [
    "new_array = np.array([1.2, 3.4, 5.6])"
   ]
  }
 ],
 "metadata": {
  "kernelspec": {
   "display_name": "Python 3 (ipykernel)",
   "language": "python",
   "name": "python3"
  },
  "language_info": {
   "codemirror_mode": {
    "name": "ipython",
    "version": 3
   },
   "file_extension": ".py",
   "mimetype": "text/x-python",
   "name": "python",
   "nbconvert_exporter": "python",
   "pygments_lexer": "ipython3",
   "version": "3.9.12"
  },
  "widgets": {
   "application/vnd.jupyter.widget-state+json": {
    "state": {},
    "version_major": 2,
    "version_minor": 0
   }
  }
 },
 "nbformat": 4,
 "nbformat_minor": 5
}
