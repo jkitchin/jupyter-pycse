{
 "cells": [
  {
   "cell_type": "markdown",
   "id": "5fce7aa1-a24b-444e-b8af-52140ec7c6f8",
   "metadata": {},
   "source": [
    "# Fancier markdown\n",
    "\n",
    "From https://github.com/agoose77/jupyterlab-markup\n",
    "\n",
    "This seems promising that you can add features to markdown. \n",
    "\n",
    "## Definition Lists\n",
    "\n",
    "\n",
    "Term 1\n",
    "  ~ Definition 1\n",
    "\n",
    "Term 2\n",
    "  ~ Definition 2a\n",
    "  ~ Definition 2b\n",
    "\n",
    "## Mermaid\n",
    "\n",
    "```mermaid \n",
    "graph TD;\n",
    "    A-->B;\n",
    "    A-->C;\n",
    "    B-->D;\n",
    "    C-->D;\n",
    "```\n",
    "\n",
    "## SVG Bob\n",
    "\n",
    "```svgbob \n",
    "     .---.\n",
    "    /-o-/--\n",
    " .-/ / /->\n",
    "( *  \\/\n",
    " '-.  \\\n",
    "    \\ /\n",
    "     '\n",
    "```\n",
    "\n",
    "## Using Footnotes\n",
    "\n",
    "Here is a footnote reference,[^1] and another.[^longnote]\n",
    "\n",
    "This is one way to do references for now. See [^1] again. And later, see [^longnote]. that looks kind of odd. [^longnote] it seems to keep a counter?\n",
    "\n",
    "# Footnotes\n",
    "\n",
    "these have to be in the same cell?\n",
    "\n",
    "[^1]: Here is the footnote.\n",
    "\n",
    "[^longnote]: Here's one with multiple blocks.\n",
    "\n",
    "\n",
    "\n"
   ]
  },
  {
   "cell_type": "code",
   "execution_count": null,
   "id": "0703934f-44b2-4eb9-ab39-bd5112bf02fe",
   "metadata": {},
   "outputs": [],
   "source": []
  },
  {
   "cell_type": "markdown",
   "id": "8f42b373-dcf3-4b69-9232-f240069f4250",
   "metadata": {},
   "source": [
    "# Footnotes\n",
    "\n",
    "these have to be in the same cell?\n",
    "\n",
    "[^1]: Here is the footnote.\n",
    "\n",
    "[^longnote]: Here's one with multiple blocks."
   ]
  },
  {
   "cell_type": "markdown",
   "id": "8e7e56a3-44b5-4b0f-be6d-c8d554bbfd91",
   "metadata": {},
   "source": [
    "# Markup Wish list\n",
    "\n",
    "1. Collapsible headings\n",
    "2. citations and bibliography\n",
    "3. Custom links that are clickable, with tooltips.\n",
    "4. export of a Markdown file to PDF, probably via pandoc (see https://github.com/jupyterlab/jupyterlab/issues/4676 for options)\n",
    "5. some editing sugar in this. Basically anything...\n",
    "\n"
   ]
  },
  {
   "cell_type": "code",
   "execution_count": null,
   "id": "3fbd9d55-823f-45ce-9dfc-83e6c26cedd6",
   "metadata": {},
   "outputs": [],
   "source": []
  }
 ],
 "metadata": {
  "kernelspec": {
   "display_name": "Python 3 (ipykernel)",
   "language": "python",
   "name": "python3"
  },
  "language_info": {
   "codemirror_mode": {
    "name": "ipython",
    "version": 3
   },
   "file_extension": ".py",
   "mimetype": "text/x-python",
   "name": "python",
   "nbconvert_exporter": "python",
   "pygments_lexer": "ipython3",
   "version": "3.9.12"
  },
  "widgets": {
   "application/vnd.jupyter.widget-state+json": {
    "state": {},
    "version_major": 2,
    "version_minor": 0
   }
  }
 },
 "nbformat": 4,
 "nbformat_minor": 5
}
