{
 "cells": [
  {
   "cell_type": "markdown",
   "metadata": {},
   "source": [
    "Using citations in Jupyter lab\n",
    "==============================\n",
    "\n",
    "In a markdown cell you can cite a reference from a bibtex file using LaTeX syntax like \\cite{kitchin-2015-examp-effec}. \n",
    "\n",
    "See [references.bib](./references.bib) for an example bibtex file.\n",
    "\n",
    "One day I might follow up on:\n",
    "1. https://github.com/krassowski/jupyterlab-citation-manager\n",
    "2. https://github.com/takluyver/cite2c (for notebook, not lab)\n",
    "\n",
    "When you want a PDF, you choose the File -> Save and Export Notebook As...-> PDF\n",
    "\n",
    "It will convert the citations in the Markdown cells to numbers, and add a bibliography at the end."
   ]
  },
  {
   "cell_type": "code",
   "execution_count": null,
   "metadata": {},
   "outputs": [
    {
     "name": "stdout",
     "output_type": "stream",
     "text": [
      "Hi there\n"
     ]
    }
   ],
   "source": [
    "print('Hi there')"
   ]
  },
  {
   "cell_type": "markdown",
   "metadata": {},
   "source": [
    "To get the bibliography you have to include these two lines:\n",
    "\n",
    "\\bibliographystyle{unsrt}\n",
    "\n",
    "\\bibliography{references.bib}"
   ]
  }
 ],
 "metadata": {
  "kernelspec": {
   "display_name": "Python 3 (ipykernel)",
   "language": "python",
   "name": "python3"
  },
  "language_info": {
   "codemirror_mode": {
    "name": "ipython",
    "version": 3
   },
   "file_extension": ".py",
   "mimetype": "text/x-python",
   "name": "python",
   "nbconvert_exporter": "python",
   "pygments_lexer": "ipython3",
   "version": "3.9.12"
  },
  "vscode": {
   "interpreter": {
    "hash": "d4d1e4263499bec80672ea0156c357c1ee493ec2b1c70f0acce89fc37c4a6abe"
   }
  },
  "widgets": {
   "application/vnd.jupyter.widget-state+json": {
    "state": {},
    "version_major": 2,
    "version_minor": 0
   }
  }
 },
 "nbformat": 4,
 "nbformat_minor": 4
}
