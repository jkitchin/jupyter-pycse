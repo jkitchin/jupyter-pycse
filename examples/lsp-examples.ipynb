{
 "cells": [
  {
   "cell_type": "markdown",
   "id": "6df48d04-3f71-41e3-b33c-b1d2f7adac6e",
   "metadata": {},
   "source": [
    "# Testing lsp\n",
    "\n",
    "https://github.com/jupyter-lsp/jupyterlab-lsp\n",
    "\n",
    "Something might be a problem with my setup here, it seems to work fine in binder from https://mybinder.org/v2/gh/jupyter-lsp/demo-python/main?urlpath=lab\n",
    "\n",
    "It looks like the lsp server gets disconnected, and does not reconnect.\n",
    "\n",
    "321.53a58cbe4a181171…58cbe4a1811710e52:1 LSP.DocumentConnectionManager: \n",
    "(3) [Error: Reader received error. Reason: Error during socket reconnect: code = 1006, reason = \n",
    "    at …, undefined, undefined]\n",
    "0: Error: Reader received error. Reason: Error during socket reconnect: code = 1006, reason = at n.asError (https://jkitchin-steel-bank-codespaces-jupyter-starter-5xxx6q9f76-8888.githubpreview.dev/lab/extensions/@krassowski/jupyterlab-lsp/static/732.913fecaf06a081f9f5ab.js?v=913fecaf06a081f9f5ab:2:100920) at n.fireError (https://jkitchin-steel-bank-codespaces-jupyter-starter-5xxx6q9f76-8888.githubpreview.dev/lab/extensions/@krassowski/jupyterlab-lsp/static/732.913fecaf06a081f9f5ab.js?v=913fecaf06a081f9f5ab:2:100661) at n.fireError (https://jkitchin-steel-bank-codespaces-jupyter-starter-5xxx6q9f76-8888.githubpreview.dev/lab/extensions/@krassowski/jupyterlab-lsp/static/732.913fecaf06a081f9f5ab.js?v=913fecaf06a081f9f5ab:2:318952) at https://jkitchin-steel-bank-codespaces-jupyter-starter-5xxx6q9f76-8888.githubpreview.dev/lab/extensions/@krassowski/jupyterlab-lsp/static/732.913fecaf06a081f9f5ab.js?v=913fecaf06a081f9f5ab:2:318448 at t.onclose (https://jkitchin-steel-bank-codespaces-jupyter-starter-5xxx6q9f76-8888.githubpreview.dev/lab/extensions/@krassowski/jupyterlab-lsp/static/732.913fecaf06a081f9f5ab.js?v=913fecaf06a081f9f5ab:2:502141)\n",
    "message: \"Reader received error. Reason: Error during socket reconnect: code = 1006, reason = \"\n",
    "stack: \"Error: Reader received error. Reason: Error during socket reconnect: code = 1006, reason = \\n    at n.asError (https://jkitchin-steel-bank-codespaces-jupyter-starter-5xxx6q9f76-8888.githubpreview.dev/lab/extensions/@krassowski/jupyterlab-lsp/static/732.913fecaf06a081f9f5ab.js?v=913fecaf06a081f9f5ab:2:100920)\\n    at n.fireError (https://jkitchin-steel-bank-codespaces-jupyter-starter-5xxx6q9f76-8888.githubpreview.dev/lab/extensions/@krassowski/jupyterlab-lsp/static/732.913fecaf06a081f9f5ab.js?v=913fecaf06a081f9f5ab:2:100661)\\n    at n.fireError (https://jkitchin-steel-bank-codespaces-jupyter-starter-5xxx6q9f76-8888.githubpreview.dev/lab/extensions/@krassowski/jupyterlab-lsp/static/732.913fecaf06a081f9f5ab.js?v=913fecaf06a081f9f5ab:2:318952)\\n    at https://jkitchin-steel-bank-codespaces-jupyter-starter-5xxx6q9f76-8888.githubpreview.dev/lab/extensions/@krassowski/jupyterlab-lsp/static/732.913fecaf06a081f9f5ab.js?v=913fecaf06a081f9f5ab:2:318448\\n    at t.onclose (https://jkitchin-steel-bank-codespaces-jupyter-starter-5xxx6q9f76-8888.githubpreview.dev/lab/extensions/@krassowski/jupyterlab-lsp/static/732.913fecaf06a081f9f5ab.js?v=913fecaf06a081f9f5ab:2:502141)\"\n",
    "[[Prototype]]: Object\n",
    "1: undefined"
   ]
  },
  {
   "cell_type": "markdown",
   "id": "eec2cf65-221f-49ce-b384-1477b6ad9849",
   "metadata": {},
   "source": [
    "# Hover\n",
    "\n",
    "On hovering you press Ctrl while hovering to see a tooltip."
   ]
  },
  {
   "cell_type": "code",
   "execution_count": 9,
   "id": "ff45a769-a010-41a9-8ca1-6773544f89fa",
   "metadata": {},
   "outputs": [
    {
     "data": {
      "text/plain": [
       "functools.partial"
      ]
     },
     "execution_count": 9,
     "metadata": {},
     "output_type": "execute_result"
    }
   ],
   "source": [
    "from functools import partial\n",
    "\n",
    "partial"
   ]
  },
  {
   "cell_type": "markdown",
   "id": "ae4183a7-45cf-4b57-aeee-7405eb8dd479",
   "metadata": {},
   "source": [
    "# diagnostics from pyflakes"
   ]
  },
  {
   "cell_type": "code",
   "execution_count": 12,
   "id": "9f127e59-99bc-4adc-a659-8c5ec2b912d2",
   "metadata": {},
   "outputs": [],
   "source": [
    "# you see red underlines here from E402, import not at top of file\n",
    "import numpy as np"
   ]
  },
  {
   "cell_type": "code",
   "execution_count": 14,
   "id": "0903d36a-7589-4c7f-b8c0-d3a876be972e",
   "metadata": {},
   "outputs": [
    {
     "data": {
      "text/plain": [
       "<function numpy.linspace(start, stop, num=50, endpoint=True, retstep=False, dtype=None, axis=0)>"
      ]
     },
     "execution_count": 14,
     "metadata": {},
     "output_type": "execute_result"
    }
   ],
   "source": [
    "np.linspace"
   ]
  },
  {
   "cell_type": "markdown",
   "id": "1bd8bd4a-a9f3-46fd-8eb3-04420a476534",
   "metadata": {},
   "source": [
    "# seems like it quit working?"
   ]
  },
  {
   "cell_type": "code",
   "execution_count": 10,
   "id": "cbcd9258-4bc2-4704-9a9b-e84fddb31b05",
   "metadata": {},
   "outputs": [
    {
     "data": {
      "text/plain": [
       "<bound method DataFrame.aggregate of Empty DataFrame\n",
       "Columns: []\n",
       "Index: []>"
      ]
     },
     "execution_count": 10,
     "metadata": {},
     "output_type": "execute_result"
    }
   ],
   "source": [
    "import pandas as pd\n",
    "\n",
    "df = pd.DataFrame()\n",
    "\n",
    "df.aggregate"
   ]
  },
  {
   "cell_type": "markdown",
   "id": "afc06414-1d87-421f-a710-148f65a2e86b",
   "metadata": {},
   "source": [
    "# jump to definition and references\n",
    "\n",
    "alt-click to jump\n",
    "\n",
    "alt-o to get back"
   ]
  },
  {
   "cell_type": "code",
   "execution_count": 11,
   "id": "b790f7e3-6a45-449d-8e17-fba35d4c6abe",
   "metadata": {},
   "outputs": [],
   "source": [
    "def f(x):\n",
    "    return x**2"
   ]
  },
  {
   "cell_type": "code",
   "execution_count": 8,
   "id": "cb8b1477-0873-40c9-a828-fe4418458b9d",
   "metadata": {},
   "outputs": [
    {
     "data": {
      "text/plain": [
       "9"
      ]
     },
     "execution_count": 8,
     "metadata": {},
     "output_type": "execute_result"
    }
   ],
   "source": [
    "f(3)"
   ]
  },
  {
   "cell_type": "markdown",
   "id": "ee990922-9dd3-4593-a078-bbefe6cb1607",
   "metadata": {},
   "source": [
    "# highlight references doesn't seem to be working\n",
    "\n",
    "clicking on something should make all instances highlighted."
   ]
  },
  {
   "cell_type": "code",
   "execution_count": 15,
   "id": "3be22985-6807-4291-af0e-ae6b4447f91c",
   "metadata": {},
   "outputs": [
    {
     "data": {
      "text/plain": [
       "41"
      ]
     },
     "execution_count": 15,
     "metadata": {},
     "output_type": "execute_result"
    }
   ],
   "source": [
    "f(4) + f(5)"
   ]
  },
  {
   "cell_type": "markdown",
   "id": "58a5f8ba-0073-4ec3-8e87-e1660bc1cfa4",
   "metadata": {},
   "source": [
    "# Automatic signature suggestions not fully working"
   ]
  },
  {
   "cell_type": "code",
   "execution_count": null,
   "id": "57511ea5-3e42-4463-a5b9-84917876a7a2",
   "metadata": {},
   "outputs": [],
   "source": [
    "np.linspace()"
   ]
  }
 ],
 "metadata": {
  "kernelspec": {
   "display_name": "Python 3 (ipykernel)",
   "language": "python",
   "name": "python3"
  },
  "language_info": {
   "codemirror_mode": {
    "name": "ipython",
    "version": 3
   },
   "file_extension": ".py",
   "mimetype": "text/x-python",
   "name": "python",
   "nbconvert_exporter": "python",
   "pygments_lexer": "ipython3",
   "version": "3.9.12"
  },
  "widgets": {
   "application/vnd.jupyter.widget-state+json": {
    "state": {},
    "version_major": 2,
    "version_minor": 0
   }
  }
 },
 "nbformat": 4,
 "nbformat_minor": 5
}
